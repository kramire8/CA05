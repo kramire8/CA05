{
  "nbformat": 4,
  "nbformat_minor": 0,
  "metadata": {
    "colab": {
      "name": "CA05",
      "provenance": []
    },
    "kernelspec": {
      "name": "python3",
      "display_name": "Python 3"
    },
    "language_info": {
      "name": "python"
    }
  },
  "cells": [
    {
      "cell_type": "markdown",
      "metadata": {
        "id": "Xn2f7Eb1oIe_"
      },
      "source": [
        "#CA05- Logistic Regression#\n",
        "\n",
        "\n"
      ]
    },
    {
      "cell_type": "markdown",
      "metadata": {
        "id": "PFvA4ENRWnDC"
      },
      "source": [
        "##1. The Application##\n",
        "Cardiovascular Disease (CVD) kills more people than cancer globally. A dataset of real heart patients collected from a 15 year heart study cohort is made available for this assignment. The dataset has 16 patient features. Note that none of the features include any Blood Test information. \n",
        "\n"
      ]
    },
    {
      "cell_type": "code",
      "metadata": {
        "id": "9eSlckGcoGD4"
      },
      "source": [
        "# import packages\n",
        "import pandas as pd\n",
        "import numpy as np\n",
        "import matplotlib.pyplot as plt \n",
        "from sklearn.model_selection import train_test_split\n",
        "from sklearn.datasets import load_iris\n",
        "from sklearn.linear_model import LogisticRegression\n",
        "from sklearn import linear_model\n",
        "from sklearn.preprocessing import StandardScaler\n",
        "from sklearn.feature_selection import RFE, SelectFromModel\n",
        "from sklearn.metrics import confusion_matrix, accuracy_score, precision_score, f1_score, roc_curve, roc_auc_score, recall_score, auc"
      ],
      "execution_count": null,
      "outputs": []
    },
    {
      "cell_type": "code",
      "metadata": {
        "id": "RcxpjMRQ-HIp"
      },
      "source": [
        "# read csv\n",
        "data = pd.read_csv('https://github.com/ArinB/CA05-B-Logistic-Regression/raw/master/cvd_data.csv')"
      ],
      "execution_count": null,
      "outputs": []
    },
    {
      "cell_type": "code",
      "metadata": {
        "colab": {
          "base_uri": "https://localhost:8080/",
          "height": 647
        },
        "id": "KaJxsP7i-gLM",
        "outputId": "93b630d6-ee12-487e-be54-98de24754722"
      },
      "source": [
        "# descriptions\n",
        "data.describe \n",
        "\n",
        "# non-null values in each column \n",
        "data.count()\n",
        "\n",
        "# nulls in each row \n",
        "data.isnull().sum()\n",
        "\n",
        "# range, column, number of non-null objects of each column, datatype and memory usage \n",
        "data.info()\n",
        "\n",
        "# show head & tail\n",
        "data.tail()\n",
        "data.head()"
      ],
      "execution_count": null,
      "outputs": [
        {
          "output_type": "stream",
          "text": [
            "<class 'pandas.core.frame.DataFrame'>\n",
            "RangeIndex: 3242 entries, 0 to 3241\n",
            "Data columns (total 17 columns):\n",
            " #   Column        Non-Null Count  Dtype  \n",
            "---  ------        --------------  -----  \n",
            " 0   cvd_4types    3242 non-null   int64  \n",
            " 1   age_s1        3242 non-null   int64  \n",
            " 2   race          3242 non-null   int64  \n",
            " 3   educat        3242 non-null   int64  \n",
            " 4   mstat         3242 non-null   int64  \n",
            " 5   hip           3242 non-null   float64\n",
            " 6   neck20        3242 non-null   float64\n",
            " 7   waist         3242 non-null   float64\n",
            " 8   av_weight_kg  3242 non-null   float64\n",
            " 9   cgpkyr        3242 non-null   float64\n",
            " 10  tea15         3242 non-null   int64  \n",
            " 11  srhype        3242 non-null   int64  \n",
            " 12  parrptdiab    3242 non-null   int64  \n",
            " 13  bend25        3242 non-null   int64  \n",
            " 14  happy25       3242 non-null   int64  \n",
            " 15  tired25       3242 non-null   int64  \n",
            " 16  hlthlm25      3242 non-null   int64  \n",
            "dtypes: float64(5), int64(12)\n",
            "memory usage: 430.7 KB\n"
          ],
          "name": "stdout"
        },
        {
          "output_type": "execute_result",
          "data": {
            "text/html": [
              "<div>\n",
              "<style scoped>\n",
              "    .dataframe tbody tr th:only-of-type {\n",
              "        vertical-align: middle;\n",
              "    }\n",
              "\n",
              "    .dataframe tbody tr th {\n",
              "        vertical-align: top;\n",
              "    }\n",
              "\n",
              "    .dataframe thead th {\n",
              "        text-align: right;\n",
              "    }\n",
              "</style>\n",
              "<table border=\"1\" class=\"dataframe\">\n",
              "  <thead>\n",
              "    <tr style=\"text-align: right;\">\n",
              "      <th></th>\n",
              "      <th>cvd_4types</th>\n",
              "      <th>age_s1</th>\n",
              "      <th>race</th>\n",
              "      <th>educat</th>\n",
              "      <th>mstat</th>\n",
              "      <th>hip</th>\n",
              "      <th>neck20</th>\n",
              "      <th>waist</th>\n",
              "      <th>av_weight_kg</th>\n",
              "      <th>cgpkyr</th>\n",
              "      <th>tea15</th>\n",
              "      <th>srhype</th>\n",
              "      <th>parrptdiab</th>\n",
              "      <th>bend25</th>\n",
              "      <th>happy25</th>\n",
              "      <th>tired25</th>\n",
              "      <th>hlthlm25</th>\n",
              "    </tr>\n",
              "  </thead>\n",
              "  <tbody>\n",
              "    <tr>\n",
              "      <th>0</th>\n",
              "      <td>0</td>\n",
              "      <td>54</td>\n",
              "      <td>1</td>\n",
              "      <td>2</td>\n",
              "      <td>1</td>\n",
              "      <td>110.0</td>\n",
              "      <td>40.0</td>\n",
              "      <td>108.0</td>\n",
              "      <td>87.5</td>\n",
              "      <td>34.0</td>\n",
              "      <td>0</td>\n",
              "      <td>1</td>\n",
              "      <td>0</td>\n",
              "      <td>1</td>\n",
              "      <td>2</td>\n",
              "      <td>3</td>\n",
              "      <td>4</td>\n",
              "    </tr>\n",
              "    <tr>\n",
              "      <th>1</th>\n",
              "      <td>0</td>\n",
              "      <td>56</td>\n",
              "      <td>3</td>\n",
              "      <td>2</td>\n",
              "      <td>1</td>\n",
              "      <td>113.0</td>\n",
              "      <td>34.0</td>\n",
              "      <td>107.0</td>\n",
              "      <td>83.5</td>\n",
              "      <td>0.0</td>\n",
              "      <td>0</td>\n",
              "      <td>0</td>\n",
              "      <td>0</td>\n",
              "      <td>2</td>\n",
              "      <td>2</td>\n",
              "      <td>1</td>\n",
              "      <td>3</td>\n",
              "    </tr>\n",
              "    <tr>\n",
              "      <th>2</th>\n",
              "      <td>0</td>\n",
              "      <td>54</td>\n",
              "      <td>1</td>\n",
              "      <td>3</td>\n",
              "      <td>1</td>\n",
              "      <td>110.0</td>\n",
              "      <td>44.5</td>\n",
              "      <td>105.0</td>\n",
              "      <td>86.2</td>\n",
              "      <td>49.5</td>\n",
              "      <td>0</td>\n",
              "      <td>0</td>\n",
              "      <td>0</td>\n",
              "      <td>3</td>\n",
              "      <td>2</td>\n",
              "      <td>6</td>\n",
              "      <td>4</td>\n",
              "    </tr>\n",
              "    <tr>\n",
              "      <th>3</th>\n",
              "      <td>0</td>\n",
              "      <td>54</td>\n",
              "      <td>1</td>\n",
              "      <td>3</td>\n",
              "      <td>1</td>\n",
              "      <td>129.0</td>\n",
              "      <td>42.5</td>\n",
              "      <td>110.0</td>\n",
              "      <td>89.1</td>\n",
              "      <td>0.0</td>\n",
              "      <td>0</td>\n",
              "      <td>0</td>\n",
              "      <td>0</td>\n",
              "      <td>3</td>\n",
              "      <td>2</td>\n",
              "      <td>1</td>\n",
              "      <td>3</td>\n",
              "    </tr>\n",
              "    <tr>\n",
              "      <th>4</th>\n",
              "      <td>0</td>\n",
              "      <td>51</td>\n",
              "      <td>3</td>\n",
              "      <td>2</td>\n",
              "      <td>1</td>\n",
              "      <td>122.0</td>\n",
              "      <td>37.0</td>\n",
              "      <td>113.0</td>\n",
              "      <td>81.3</td>\n",
              "      <td>0.0</td>\n",
              "      <td>0</td>\n",
              "      <td>0</td>\n",
              "      <td>0</td>\n",
              "      <td>2</td>\n",
              "      <td>1</td>\n",
              "      <td>1</td>\n",
              "      <td>2</td>\n",
              "    </tr>\n",
              "  </tbody>\n",
              "</table>\n",
              "</div>"
            ],
            "text/plain": [
              "   cvd_4types  age_s1  race  educat  ...  bend25  happy25  tired25  hlthlm25\n",
              "0           0      54     1       2  ...       1        2        3         4\n",
              "1           0      56     3       2  ...       2        2        1         3\n",
              "2           0      54     1       3  ...       3        2        6         4\n",
              "3           0      54     1       3  ...       3        2        1         3\n",
              "4           0      51     3       2  ...       2        1        1         2\n",
              "\n",
              "[5 rows x 17 columns]"
            ]
          },
          "metadata": {
            "tags": []
          },
          "execution_count": 4
        }
      ]
    },
    {
      "cell_type": "markdown",
      "metadata": {
        "id": "WO58GtR9oZdB"
      },
      "source": [
        "##2. Deliverables##\n",
        "\n",
        "**Part 1:** build a binary classifier model to predict the CVD Risk (Yes/No, or 1/0) using a Logistic Regression Model with the best performance possible(deliverable: Notebook)\n",
        "\n",
        "**Part 2:**Display the Feature Importance of all the features sorted in the order of decreasing influenceon the CVD Risk (deliverable: Notebook)\n",
        "\n",
        "**Part 3:** Evaluate the performance of your model(including ROC Curve), explain the performanceand draw a meaningful conclusion.(deliverable: Performanceoutputs in Notebook, explanationand conclusion in Word/PDF document)"
      ]
    },
    {
      "cell_type": "markdown",
      "metadata": {
        "id": "U91lvIPFo2mg"
      },
      "source": [
        "Part 1:"
      ]
    },
    {
      "cell_type": "code",
      "metadata": {
        "id": "0V518yKCowsZ"
      },
      "source": [
        "# set up target & feature variables\n",
        "\n",
        "# target variable\n",
        "y = data.cvd_4types\n",
        "\n",
        "# features are the rest of the columns\n",
        "x = data.drop(['cvd_4types'], axis = 1)\n",
        "\n",
        "# scale data\n",
        "scaler = StandardScaler()\n",
        "scaler.fit(x) \n",
        "x_scaled = pd.DataFrame(scaler.transform(x),columns = x.columns)\n",
        "\n",
        "# splitting data into train and test following the 70/30 rule\n",
        "x_train, x_test, y_train, y_test = train_test_split(x, y, test_size = 0.30, \n",
        "                                                    random_state = 0)"
      ],
      "execution_count": null,
      "outputs": []
    },
    {
      "cell_type": "code",
      "metadata": {
        "colab": {
          "base_uri": "https://localhost:8080/"
        },
        "id": "HsvrgQ_FGeaV",
        "outputId": "027690b5-31ad-4b31-9d30-95cc748df98e"
      },
      "source": [
        "# fit logistic regression classifier\n",
        "clf = linear_model.LogisticRegression(C = 1e40, solver = 'newton-cg')\n",
        "fitted_model = clf.fit(x_train, y_train)\n",
        "\n",
        "# accuracy score \n",
        "print(clf.score(x_test, y_test))\n",
        "\n",
        "# predict\n",
        "prediction_result = clf.predict(x_test)"
      ],
      "execution_count": null,
      "outputs": [
        {
          "output_type": "stream",
          "text": [
            "0.6824254881808839\n"
          ],
          "name": "stdout"
        }
      ]
    },
    {
      "cell_type": "markdown",
      "metadata": {
        "id": "I_EqzlkiNeEc"
      },
      "source": [
        "Part 2: "
      ]
    },
    {
      "cell_type": "code",
      "metadata": {
        "id": "8Cy4VvMry-Oo",
        "colab": {
          "base_uri": "https://localhost:8080/",
          "height": 261
        },
        "outputId": "5f7124c6-d9f9-4f7c-f79e-bf9d0e079ef2"
      },
      "source": [
        "# display feature importance \n",
        "importance = clf.coef_\n",
        "\n",
        "# create dictionary for feature \n",
        "feature_dict = {}\n",
        "for coefficients, feature in zip(importance[0,:], x.columns): \n",
        "  feature_dict[feature] = coefficients\n",
        "feature_dict\n",
        "\n",
        "# create data frames with features and coefficients \n",
        "df = pd.DataFrame.from_dict(feature_dict, orient = 'index', columns = ['Coefficients'])\n",
        "df\n",
        "\n",
        "# remove negative values\n",
        "coeff_data = df[df['Coefficients'] > 0]\n",
        "\n",
        "# sort in descending order \n",
        "coeff_data = coeff_data.sort_values(by = 'Coefficients', ascending = False)\n",
        "coeff_data  "
      ],
      "execution_count": null,
      "outputs": [
        {
          "output_type": "execute_result",
          "data": {
            "text/html": [
              "<div>\n",
              "<style scoped>\n",
              "    .dataframe tbody tr th:only-of-type {\n",
              "        vertical-align: middle;\n",
              "    }\n",
              "\n",
              "    .dataframe tbody tr th {\n",
              "        vertical-align: top;\n",
              "    }\n",
              "\n",
              "    .dataframe thead th {\n",
              "        text-align: right;\n",
              "    }\n",
              "</style>\n",
              "<table border=\"1\" class=\"dataframe\">\n",
              "  <thead>\n",
              "    <tr style=\"text-align: right;\">\n",
              "      <th></th>\n",
              "      <th>Coefficients</th>\n",
              "    </tr>\n",
              "  </thead>\n",
              "  <tbody>\n",
              "    <tr>\n",
              "      <th>parrptdiab</th>\n",
              "      <td>0.670666</td>\n",
              "    </tr>\n",
              "    <tr>\n",
              "      <th>educat</th>\n",
              "      <td>0.282205</td>\n",
              "    </tr>\n",
              "    <tr>\n",
              "      <th>srhype</th>\n",
              "      <td>0.246997</td>\n",
              "    </tr>\n",
              "    <tr>\n",
              "      <th>bend25</th>\n",
              "      <td>0.152769</td>\n",
              "    </tr>\n",
              "    <tr>\n",
              "      <th>tired25</th>\n",
              "      <td>0.131113</td>\n",
              "    </tr>\n",
              "    <tr>\n",
              "      <th>waist</th>\n",
              "      <td>0.092574</td>\n",
              "    </tr>\n",
              "    <tr>\n",
              "      <th>age_s1</th>\n",
              "      <td>0.001899</td>\n",
              "    </tr>\n",
              "  </tbody>\n",
              "</table>\n",
              "</div>"
            ],
            "text/plain": [
              "            Coefficients\n",
              "parrptdiab      0.670666\n",
              "educat          0.282205\n",
              "srhype          0.246997\n",
              "bend25          0.152769\n",
              "tired25         0.131113\n",
              "waist           0.092574\n",
              "age_s1          0.001899"
            ]
          },
          "metadata": {
            "tags": []
          },
          "execution_count": 43
        }
      ]
    },
    {
      "cell_type": "markdown",
      "metadata": {
        "id": "bl8I-ceAUoSZ"
      },
      "source": [
        "Part 3:"
      ]
    },
    {
      "cell_type": "code",
      "metadata": {
        "colab": {
          "base_uri": "https://localhost:8080/",
          "height": 526
        },
        "id": "_DS3hi2BTzyN",
        "outputId": "7f88b0b8-15f5-4cbe-99d0-7a52f05f7532"
      },
      "source": [
        "# tests for true negatives, false positives, false negatives and true positives \n",
        "tn, fp, fn, tp = confusion_matrix(y_test, y_pred, labels = [0, 1]).ravel()\n",
        "print('Confusion Matrix:')\n",
        "print('   TN =', tn)\n",
        "print('   FP =', fp) \n",
        "print('   FN =', fn)\n",
        "print('   TP =', tp)\n",
        "\n",
        "# testing accuracy of y_test from y_pred\n",
        "accuracy = accuracy_score(y_test, y_pred)\n",
        "print('Accuracy:', round(accuracy, 4))\n",
        "\n",
        "# testing precision of y_test from y_pred\n",
        "precision = precision_score(y_test, y_pred)\n",
        "print('Precision:', round(precision, 4))\n",
        "\n",
        "# recall score\n",
        "recallscore = recall_score(y_test, y_pred)\n",
        "print('Recall Score:', round(recallscore, 4))\n",
        "\n",
        "# testing weighted average of precision and recall (takes both false positives and false negatives into account)\n",
        "f1score = f1_score(y_test, y_pred, labels = [0, 1], average = 'weighted') \n",
        "print('F1-Score:', round(f1score, 4))\n",
        "\n",
        "# sensitivity \n",
        "sensitivity = tp/(tp+fn)\n",
        "print('Sensitivity:', round(sensitivity, 4))\n",
        "\n",
        "#specificity\n",
        "specificity = tn/(tn+fp)\n",
        "print('Specificity:', round(specificity, 4)) \n",
        "\n",
        "# calculating roc & auc: looking at the tradeoff between true positives and false positives at different thresholds\n",
        "rocauc = roc_auc_score(y_test, y_pred)\n",
        "print('ROC AUC Score:', round(rocauc, 4))\n",
        "\n",
        "# graphing roc curve \n",
        "fpr,tpr, thresholds = roc_curve(y_test,y_pred)\n",
        "plt.plot(fpr, tpr)\n",
        "plt.xlabel('FPR')\n",
        "plt.ylabel('TPR')\n",
        "plt.title('ROC Curve')"
      ],
      "execution_count": null,
      "outputs": [
        {
          "output_type": "stream",
          "text": [
            "Confusion Matrix:\n",
            "   TN = 181\n",
            "   FP = 207\n",
            "   FN = 116\n",
            "   TP = 469\n",
            "Accuracy: 0.668\n",
            "Precision: 0.6938\n",
            "Recall Score: 0.8017\n",
            "F1-Score: 0.658\n",
            "Sensitivity: 0.8017\n",
            "Specificity: 0.4665\n",
            "ROC AUC Score: 0.6341\n"
          ],
          "name": "stdout"
        },
        {
          "output_type": "execute_result",
          "data": {
            "text/plain": [
              "Text(0.5, 1.0, 'ROC Curve')"
            ]
          },
          "metadata": {
            "tags": []
          },
          "execution_count": 77
        },
        {
          "output_type": "display_data",
          "data": {
            "image/png": "[encoded data removed]",
            "text/plain": [
              "<Figure size 432x288 with 1 Axes>"
            ]
          },
          "metadata": {
            "tags": [],
            "needs_background": "light"
          }
        }
      ]
    },
    {
      "cell_type": "markdown",
      "metadata": {
        "id": "wZ2D1_1yefeK"
      },
      "source": [
        "**Conclusion:**\n",
        "This model has a 66.8% accuracy rate, which shows that it is not the most effective model in classifying cardiovascular risk. All of the scoring is considered low. The highest is sensitivity and recall at about 80%. These scores indicate that the model detects 80% of patients with the disease (true positives) but 20% with the disease go undetected (false negatives).Since CVD is a serious health condition, a higher sensitivity score is needed. Additionally, from the specificity, we can see that the model correctly reports 46% of patients without the disease as test negative (true negatives) but 54% patients without the disease are incorrectly identified as test positive (false positives). This is also extremely low, especially for the healthcare industry."
      ]
    }
  ]
}